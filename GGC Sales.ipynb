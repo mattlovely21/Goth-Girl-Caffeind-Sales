{
 "cells": [
  {
   "cell_type": "code",
   "execution_count": 42,
   "id": "bfb5d2bf-8f5c-492c-8f97-99606b10a08f",
   "metadata": {},
   "outputs": [],
   "source": [
    "import numpy as np\n",
    "import pandas as pd\n",
    "import matplotlib as mpl\n",
    "import matplotlib.pyplot as plt\n",
    "import seaborn as sns\n",
    "import statsmodels.api as sm\n",
    "sns.set_style(\"darkgrid\")\n",
    "mpl.rcParams['figure.figsize'] = (20,5)"
   ]
  },
  {
   "cell_type": "markdown",
   "id": "2d9d0a7b-a488-4e92-8eb4-ba489579743e",
   "metadata": {},
   "source": [
    "Data Cleansing"
   ]
  },
  {
   "cell_type": "code",
   "execution_count": 44,
   "id": "7735a01f-bb40-4b06-9f7e-ff7b6c72e122",
   "metadata": {},
   "outputs": [
    {
     "name": "stdout",
     "output_type": "stream",
     "text": [
      "       Date      Time Time Zone  Category               Item  Qty  \\\n",
      "0  7/7/2024  11:36:43   Arizona  Beverage         Mad Muscle    1   \n",
      "1  7/7/2024  11:03:27   Arizona       NaN           Chai Tea    1   \n",
      "2  7/7/2024  11:03:27   Arizona       NaN        pink elixir    1   \n",
      "3  7/7/2024  11:03:27   Arizona       NaN  caramel cold brew    1   \n",
      "4  7/7/2024  11:01:01   Arizona       NaN  caramel cold brew    1   \n",
      "\n",
      "  Price Point Name  SKU   Modifiers Applied Gross Sales  ... Event Type  \\\n",
      "0          Regular  NaN                 NaN      $6.50   ...    Payment   \n",
      "1          Regular  NaN         Large, Iced      $5.50   ...    Payment   \n",
      "2          Regular  NaN               Large      $6.00   ...    Payment   \n",
      "3          Regular  NaN               Large      $6.00   ...    Payment   \n",
      "4          Regular  NaN  Small, Almond Milk      $5.50   ...    Payment   \n",
      "\n",
      "                     Location Dining Option                 Customer ID  \\\n",
      "0  A Lovely Mess Company, LLC      For Here                         NaN   \n",
      "1  A Lovely Mess Company, LLC      For Here  BZQT88SA9CWFWQTD16VHT275RW   \n",
      "2  A Lovely Mess Company, LLC      For Here  BZQT88SA9CWFWQTD16VHT275RW   \n",
      "3  A Lovely Mess Company, LLC      For Here  BZQT88SA9CWFWQTD16VHT275RW   \n",
      "4  A Lovely Mess Company, LLC      For Here  9WZXXYDNB7SG0EMRHD1SVFJZCR   \n",
      "\n",
      "  Customer Reference ID Unit Count Itemization Type Fulfillment Note  \\\n",
      "0                   NaN   ea     1    Physical Item              NaN   \n",
      "1                   NaN   ea     1    Physical Item              NaN   \n",
      "2                   NaN   ea     1    Physical Item              NaN   \n",
      "3                   NaN   ea     1    Physical Item              NaN   \n",
      "4                   NaN   ea     1    Physical Item              NaN   \n",
      "\n",
      "                      Token  \n",
      "0  NWTHWPN4SDIJMGURR7QNVYXA  \n",
      "1  LUVMKNA7JZLYTRIML5SAZU4E  \n",
      "2  LSGRIIFUTAUKRO3DHGTF7OQQ  \n",
      "3  MI22GVF4CT7MBTYYEIOZOY3Q  \n",
      "4  MI22GVF4CT7MBTYYEIOZOY3Q  \n",
      "\n",
      "[5 rows x 27 columns]\n",
      "(3373, 27)\n"
     ]
    }
   ],
   "source": [
    "ggc_sales = pd.read_csv('GGC items raw.csv')\n",
    "print(ggc_sales.head())\n",
    "print(ggc_sales.shape)"
   ]
  },
  {
   "cell_type": "code",
   "execution_count": 45,
   "id": "e1aba212-f75a-4d1a-b4cb-f4a9895ed12c",
   "metadata": {},
   "outputs": [
    {
     "name": "stdout",
     "output_type": "stream",
     "text": [
      "Date                        0\n",
      "Time                        0\n",
      "Time Zone                   0\n",
      "Category                 1839\n",
      "Item                        0\n",
      "Qty                         0\n",
      "Price Point Name          108\n",
      "SKU                      3373\n",
      "Modifiers Applied         396\n",
      "Gross Sales                 0\n",
      "Discounts                   0\n",
      "Net Sales                   0\n",
      "Tax                         0\n",
      "Transaction ID              0\n",
      "Payment ID                  0\n",
      "Device Name               112\n",
      "Notes                    3328\n",
      "Event Type                  0\n",
      "Location                    0\n",
      "Dining Option             112\n",
      "Customer ID              1609\n",
      "Customer Reference ID    3373\n",
      "Unit                        0\n",
      "Count                       0\n",
      "Itemization Type          108\n",
      "Fulfillment Note         3373\n",
      "Token                     108\n",
      "dtype: int64\n"
     ]
    }
   ],
   "source": [
    "# Check for columns with all missing values.\n",
    "print(ggc_sales.isnull().sum())"
   ]
  },
  {
   "cell_type": "code",
   "execution_count": 46,
   "id": "86b9072c-778b-4b9e-9a41-3e292186a045",
   "metadata": {},
   "outputs": [
    {
     "ename": "KeyError",
     "evalue": "\"['Details'] not found in axis\"",
     "output_type": "error",
     "traceback": [
      "\u001b[1;31m---------------------------------------------------------------------------\u001b[0m",
      "\u001b[1;31mKeyError\u001b[0m                                  Traceback (most recent call last)",
      "Cell \u001b[1;32mIn[46], line 4\u001b[0m\n\u001b[0;32m      1\u001b[0m \u001b[38;5;66;03m# Drop columns with all missing values. Drop columns with unnecessary information for analysis.\u001b[39;00m\n\u001b[0;32m      2\u001b[0m \u001b[38;5;66;03m# Fill missing values with placeholder text.\u001b[39;00m\n\u001b[0;32m      3\u001b[0m ggc_sales\u001b[38;5;241m.\u001b[39mdrop([\u001b[38;5;124m'\u001b[39m\u001b[38;5;124mSKU\u001b[39m\u001b[38;5;124m'\u001b[39m, \u001b[38;5;124m'\u001b[39m\u001b[38;5;124mCustomer Reference ID\u001b[39m\u001b[38;5;124m'\u001b[39m, \u001b[38;5;124m'\u001b[39m\u001b[38;5;124mFulfillment Note\u001b[39m\u001b[38;5;124m'\u001b[39m], axis\u001b[38;5;241m=\u001b[39m\u001b[38;5;124m'\u001b[39m\u001b[38;5;124mcolumns\u001b[39m\u001b[38;5;124m'\u001b[39m, inplace\u001b[38;5;241m=\u001b[39m\u001b[38;5;28;01mTrue\u001b[39;00m)\n\u001b[1;32m----> 4\u001b[0m ggc_sales\u001b[38;5;241m.\u001b[39mdrop([\u001b[38;5;124m'\u001b[39m\u001b[38;5;124mTime Zone\u001b[39m\u001b[38;5;124m'\u001b[39m, \u001b[38;5;124m'\u001b[39m\u001b[38;5;124mDevice Name\u001b[39m\u001b[38;5;124m'\u001b[39m, \u001b[38;5;124m'\u001b[39m\u001b[38;5;124mDetails\u001b[39m\u001b[38;5;124m'\u001b[39m, \u001b[38;5;124m'\u001b[39m\u001b[38;5;124mLocation\u001b[39m\u001b[38;5;124m'\u001b[39m, \u001b[38;5;124m'\u001b[39m\u001b[38;5;124mDining Option\u001b[39m\u001b[38;5;124m'\u001b[39m, \u001b[38;5;124m'\u001b[39m\u001b[38;5;124mUnit\u001b[39m\u001b[38;5;124m'\u001b[39m, \u001b[38;5;124m'\u001b[39m\u001b[38;5;124mCount\u001b[39m\u001b[38;5;124m'\u001b[39m, \u001b[38;5;124m'\u001b[39m\u001b[38;5;124mToken\u001b[39m\u001b[38;5;124m'\u001b[39m], axis\u001b[38;5;241m=\u001b[39m\u001b[38;5;124m'\u001b[39m\u001b[38;5;124mcolumns\u001b[39m\u001b[38;5;124m'\u001b[39m, inplace\u001b[38;5;241m=\u001b[39m\u001b[38;5;28;01mTrue\u001b[39;00m)\n\u001b[0;32m      5\u001b[0m ggc_sales\u001b[38;5;241m.\u001b[39mfillna(\u001b[38;5;124m'\u001b[39m\u001b[38;5;124mNA\u001b[39m\u001b[38;5;124m'\u001b[39m, inplace\u001b[38;5;241m=\u001b[39m\u001b[38;5;28;01mTrue\u001b[39;00m)\n\u001b[0;32m      6\u001b[0m \u001b[38;5;28mprint\u001b[39m(ggc_sales\u001b[38;5;241m.\u001b[39minfo())\n",
      "File \u001b[1;32m~\\anaconda3\\Lib\\site-packages\\pandas\\core\\frame.py:5344\u001b[0m, in \u001b[0;36mDataFrame.drop\u001b[1;34m(self, labels, axis, index, columns, level, inplace, errors)\u001b[0m\n\u001b[0;32m   5196\u001b[0m \u001b[38;5;28;01mdef\u001b[39;00m \u001b[38;5;21mdrop\u001b[39m(\n\u001b[0;32m   5197\u001b[0m     \u001b[38;5;28mself\u001b[39m,\n\u001b[0;32m   5198\u001b[0m     labels: IndexLabel \u001b[38;5;241m|\u001b[39m \u001b[38;5;28;01mNone\u001b[39;00m \u001b[38;5;241m=\u001b[39m \u001b[38;5;28;01mNone\u001b[39;00m,\n\u001b[1;32m   (...)\u001b[0m\n\u001b[0;32m   5205\u001b[0m     errors: IgnoreRaise \u001b[38;5;241m=\u001b[39m \u001b[38;5;124m\"\u001b[39m\u001b[38;5;124mraise\u001b[39m\u001b[38;5;124m\"\u001b[39m,\n\u001b[0;32m   5206\u001b[0m ) \u001b[38;5;241m-\u001b[39m\u001b[38;5;241m>\u001b[39m DataFrame \u001b[38;5;241m|\u001b[39m \u001b[38;5;28;01mNone\u001b[39;00m:\n\u001b[0;32m   5207\u001b[0m \u001b[38;5;250m    \u001b[39m\u001b[38;5;124;03m\"\"\"\u001b[39;00m\n\u001b[0;32m   5208\u001b[0m \u001b[38;5;124;03m    Drop specified labels from rows or columns.\u001b[39;00m\n\u001b[0;32m   5209\u001b[0m \n\u001b[1;32m   (...)\u001b[0m\n\u001b[0;32m   5342\u001b[0m \u001b[38;5;124;03m            weight  1.0     0.8\u001b[39;00m\n\u001b[0;32m   5343\u001b[0m \u001b[38;5;124;03m    \"\"\"\u001b[39;00m\n\u001b[1;32m-> 5344\u001b[0m     \u001b[38;5;28;01mreturn\u001b[39;00m \u001b[38;5;28msuper\u001b[39m()\u001b[38;5;241m.\u001b[39mdrop(\n\u001b[0;32m   5345\u001b[0m         labels\u001b[38;5;241m=\u001b[39mlabels,\n\u001b[0;32m   5346\u001b[0m         axis\u001b[38;5;241m=\u001b[39maxis,\n\u001b[0;32m   5347\u001b[0m         index\u001b[38;5;241m=\u001b[39mindex,\n\u001b[0;32m   5348\u001b[0m         columns\u001b[38;5;241m=\u001b[39mcolumns,\n\u001b[0;32m   5349\u001b[0m         level\u001b[38;5;241m=\u001b[39mlevel,\n\u001b[0;32m   5350\u001b[0m         inplace\u001b[38;5;241m=\u001b[39minplace,\n\u001b[0;32m   5351\u001b[0m         errors\u001b[38;5;241m=\u001b[39merrors,\n\u001b[0;32m   5352\u001b[0m     )\n",
      "File \u001b[1;32m~\\anaconda3\\Lib\\site-packages\\pandas\\core\\generic.py:4711\u001b[0m, in \u001b[0;36mNDFrame.drop\u001b[1;34m(self, labels, axis, index, columns, level, inplace, errors)\u001b[0m\n\u001b[0;32m   4709\u001b[0m \u001b[38;5;28;01mfor\u001b[39;00m axis, labels \u001b[38;5;129;01min\u001b[39;00m axes\u001b[38;5;241m.\u001b[39mitems():\n\u001b[0;32m   4710\u001b[0m     \u001b[38;5;28;01mif\u001b[39;00m labels \u001b[38;5;129;01mis\u001b[39;00m \u001b[38;5;129;01mnot\u001b[39;00m \u001b[38;5;28;01mNone\u001b[39;00m:\n\u001b[1;32m-> 4711\u001b[0m         obj \u001b[38;5;241m=\u001b[39m obj\u001b[38;5;241m.\u001b[39m_drop_axis(labels, axis, level\u001b[38;5;241m=\u001b[39mlevel, errors\u001b[38;5;241m=\u001b[39merrors)\n\u001b[0;32m   4713\u001b[0m \u001b[38;5;28;01mif\u001b[39;00m inplace:\n\u001b[0;32m   4714\u001b[0m     \u001b[38;5;28mself\u001b[39m\u001b[38;5;241m.\u001b[39m_update_inplace(obj)\n",
      "File \u001b[1;32m~\\anaconda3\\Lib\\site-packages\\pandas\\core\\generic.py:4753\u001b[0m, in \u001b[0;36mNDFrame._drop_axis\u001b[1;34m(self, labels, axis, level, errors, only_slice)\u001b[0m\n\u001b[0;32m   4751\u001b[0m         new_axis \u001b[38;5;241m=\u001b[39m axis\u001b[38;5;241m.\u001b[39mdrop(labels, level\u001b[38;5;241m=\u001b[39mlevel, errors\u001b[38;5;241m=\u001b[39merrors)\n\u001b[0;32m   4752\u001b[0m     \u001b[38;5;28;01melse\u001b[39;00m:\n\u001b[1;32m-> 4753\u001b[0m         new_axis \u001b[38;5;241m=\u001b[39m axis\u001b[38;5;241m.\u001b[39mdrop(labels, errors\u001b[38;5;241m=\u001b[39merrors)\n\u001b[0;32m   4754\u001b[0m     indexer \u001b[38;5;241m=\u001b[39m axis\u001b[38;5;241m.\u001b[39mget_indexer(new_axis)\n\u001b[0;32m   4756\u001b[0m \u001b[38;5;66;03m# Case for non-unique axis\u001b[39;00m\n\u001b[0;32m   4757\u001b[0m \u001b[38;5;28;01melse\u001b[39;00m:\n",
      "File \u001b[1;32m~\\anaconda3\\Lib\\site-packages\\pandas\\core\\indexes\\base.py:7000\u001b[0m, in \u001b[0;36mIndex.drop\u001b[1;34m(self, labels, errors)\u001b[0m\n\u001b[0;32m   6998\u001b[0m \u001b[38;5;28;01mif\u001b[39;00m mask\u001b[38;5;241m.\u001b[39many():\n\u001b[0;32m   6999\u001b[0m     \u001b[38;5;28;01mif\u001b[39;00m errors \u001b[38;5;241m!=\u001b[39m \u001b[38;5;124m\"\u001b[39m\u001b[38;5;124mignore\u001b[39m\u001b[38;5;124m\"\u001b[39m:\n\u001b[1;32m-> 7000\u001b[0m         \u001b[38;5;28;01mraise\u001b[39;00m \u001b[38;5;167;01mKeyError\u001b[39;00m(\u001b[38;5;124mf\u001b[39m\u001b[38;5;124m\"\u001b[39m\u001b[38;5;132;01m{\u001b[39;00mlabels[mask]\u001b[38;5;241m.\u001b[39mtolist()\u001b[38;5;132;01m}\u001b[39;00m\u001b[38;5;124m not found in axis\u001b[39m\u001b[38;5;124m\"\u001b[39m)\n\u001b[0;32m   7001\u001b[0m     indexer \u001b[38;5;241m=\u001b[39m indexer[\u001b[38;5;241m~\u001b[39mmask]\n\u001b[0;32m   7002\u001b[0m \u001b[38;5;28;01mreturn\u001b[39;00m \u001b[38;5;28mself\u001b[39m\u001b[38;5;241m.\u001b[39mdelete(indexer)\n",
      "\u001b[1;31mKeyError\u001b[0m: \"['Details'] not found in axis\""
     ]
    }
   ],
   "source": [
    "# Drop columns with all missing values. Drop columns with unnecessary information for analysis.\n",
    "# Fill missing values with placeholder text.\n",
    "ggc_sales.drop(['SKU', 'Customer Reference ID', 'Fulfillment Note'], axis='columns', inplace=True)\n",
    "ggc_sales.drop(['Time Zone', 'Device Name', 'Details', 'Location', 'Dining Option', 'Unit', 'Count', 'Token'], axis='columns', inplace=True)\n",
    "ggc_sales.fillna('NA', inplace=True)\n",
    "print(ggc_sales.info())"
   ]
  },
  {
   "cell_type": "code",
   "execution_count": null,
   "id": "b84a5fbb-3414-4839-adb6-7f06d0f80256",
   "metadata": {},
   "outputs": [],
   "source": [
    "# Adjust column names to a more accessible format.\n",
    "ggc_sales.columns = ggc_sales.columns.str.replace(' ', '_').str.lower()\n",
    "print(ggc_sales.columns)"
   ]
  },
  {
   "cell_type": "code",
   "execution_count": null,
   "id": "835f9857-7a77-4a92-a1d5-a77f4cabe018",
   "metadata": {},
   "outputs": [],
   "source": [
    "# Create a datetime column comining the date and time values provided.\n",
    "ggc_sales['datetime'] = pd.to_datetime(ggc_sales['date'].astype(str) + ' ' + ggc_sales['time'].astype(str))\n",
    "# Convert the Date column to datetime format\n",
    "ggc_sales['date'] = pd.to_datetime(ggc_sales['date'])\n",
    "# Convert Qty column to int\n",
    "ggc_sales['qty'] = ggc_sales.qty.astype('int64')\n",
    "# Convert values in currency columns from string to float.\n",
    "ggc_sales[['gross_sales', 'tax', 'net_sales', 'discounts']] = ggc_sales[['gross_sales', 'tax', 'net_sales', 'discounts']].replace({'\\$': '', ',': ''}, regex=True).astype('float')\n",
    "# Create a column adding tax to the net sale, giving a total for each transaction.\n",
    "ggc_sales['final_sale'] = round(ggc_sales.net_sales + ggc_sales.tax, 2)\n",
    "print(ggc_sales.head())"
   ]
  },
  {
   "cell_type": "code",
   "execution_count": null,
   "id": "fbeabe98-9533-4d51-bc0c-6674c94bf9b9",
   "metadata": {},
   "outputs": [],
   "source": [
    "# Divide the modifiers_added column into multiple columns for each modifier.\n",
    "# Assign lists for each modifier.\n",
    "sizes = ['Small', 'Large']\n",
    "temperatures = ['Hot', 'Iced', 'Blended']\n",
    "milks = ['Whole Milk', 'Skim Milk', 'Almond Milk', 'Oat Milk', 'Half & Half', 'Heavy Whipping Cream', 'Lemonade']\n",
    "flavors = ['Brown Sugar Cinnamon', 'Caramel', 'Hazelnut', 'Irish Cream', 'Mocha', 'Peppermint', 'SF Peppermint', 'Strawberry',\\\n",
    "           'Sugar Free Blueberry', 'Sugar Free Caramel', 'Sugar Free Vanilla', 'Vanilla', 'White Chocolate', 'Black Cherry', 'Blue Raspberry',\\\n",
    "           'Lavender', 'Peach', 'Pumpkin', 'Raspberry', 'SF Caramel', 'Watermelon']\n",
    "addons = ['Add Shot', 'Cold Foam', 'Double Shot', 'Extra Sauce', 'No Whip', 'Whipped Cream']\n",
    "\n",
    "# Create separate columns for each category\n",
    "ggc_sales['size'] = None\n",
    "ggc_sales['temperature'] = None\n",
    "ggc_sales['milk'] = None\n",
    "ggc_sales['flavors'] = None\n",
    "ggc_sales['addons'] = None\n",
    "\n",
    "# Function to assign values to the correct columns\n",
    "def assign_modifiers(row):\n",
    "    modifiers = row['modifiers_applied'].split(', ')\n",
    "    size = None\n",
    "    temperature = None\n",
    "    milk = None\n",
    "    flavor_list = []\n",
    "    addon_list = []\n",
    "    \n",
    "    for mod in modifiers:\n",
    "        if mod in sizes:\n",
    "            size = mod\n",
    "        elif mod in temperatures:\n",
    "            temperature = mod\n",
    "        elif mod in milks:\n",
    "            milk = mod\n",
    "        elif mod in flavors:\n",
    "            flavor_list.append(mod)\n",
    "        elif mod in addons:\n",
    "            addon_list.append(mod)\n",
    "    \n",
    "    row['size'] = size\n",
    "    row['temperature'] = temperature\n",
    "    row['milk'] = milk\n",
    "    row['flavors'] = ', '.join(flavor_list) if flavor_list else None\n",
    "    row['addons'] = ', '.join(addon_list) if addon_list else None\n",
    "    \n",
    "    return row\n",
    "\n",
    "# Apply the function to each row, and drop the original column\n",
    "ggc_sales = ggc_sales.apply(assign_modifiers, axis=1)\n",
    "ggc_sales.drop('modifiers_applied', axis='columns', inplace=True)\n",
    "print(ggc_sales.head())"
   ]
  },
  {
   "cell_type": "code",
   "execution_count": null,
   "id": "52b0fb52-1dbf-4af6-a060-05b0e716d8a6",
   "metadata": {},
   "outputs": [],
   "source": [
    "# Combine same drinks under different names\n",
    "ggc_sales['item'] = ggc_sales['item'].replace({\n",
    "    'Iced Green Tea': 'Green Tea',\n",
    "    'iced green tea peach lemonade': 'green tea peach lemonade',\n",
    "    'Latte2': 'Latte',\n",
    "    'the chocoholic frapp': 'chocoholic frapp'\n",
    "})\n",
    "\n",
    "print(ggc_sales.item.unique())"
   ]
  },
  {
   "cell_type": "code",
   "execution_count": null,
   "id": "619f8282-cba2-4dd6-be61-342563d5b414",
   "metadata": {},
   "outputs": [],
   "source": [
    "# Update values for price point name and category\n",
    "foods = ['cookie', 'cupcake', 'loaf', 'muffin', 'pastry', 'scone', 'string cheese']\n",
    "coffee_teas = ['mad muscle', 'chai tea', 'caramel cold brew', 'americano', 'dirty filthy little chai', 'matcha latte',\\\n",
    "               'green tea peach lemonade', 'macchiato', 'cold brew', 'frapp', 'matcha monk', 'green tea', 'shaken espresso',\\\n",
    "               'coffee', 'doppio', 'pumpkin spice latte', 'latte', 'chocoholic frapp', 'pumpkin chai', 'cappuccino',\\\n",
    "               'irish goodbye', 'tsukuyomi', 'mad muscle iced latte', 'the chocoholic frapp', 'coffee frapp',\\\n",
    "               \"sugar we're going down\", 'drip coffee', 'dalgona style', 'tea', 'flat white']\n",
    "beverages = ['black elixir', 'cream frapp', 'elixir', 'flavored lemonade', 'frozen elixir', 'frozen lemonade',\\\n",
    "             'hot chocolate', 'ice wizard', 'kids milk', 'mana potion', 'pink elixir', 'rasengan']\n",
    "\n",
    "for i, item in enumerate(ggc_sales.item):\n",
    "    item_l = item.lower()\n",
    "    if item == 'Custom Amount':\n",
    "        ggc_sales.at[i, 'price_point_name'] = 'Custom'\n",
    "        ggc_sales.at[i, 'category'] = 'Custom'\n",
    "    elif item in ['Small Event Drink', 'Large Event Drink', 'Event Drink', 'Event Drink (smalls) (full menu)', 'Special Event']:\n",
    "        ggc_sales.at[i, 'price_point_name'] = 'Events'\n",
    "        ggc_sales.at[i, 'category'] = 'Events'\n",
    "    else :\n",
    "        ggc_sales.at[i, 'price_point_name'] = 'Regular'\n",
    "        if any(keyword in item_l for keyword in foods):\n",
    "            ggc_sales.at[i, 'category'] = 'Food'\n",
    "        elif any(keyword in item_l for keyword in beverages):\n",
    "            ggc_sales.at[i, 'category'] = 'Beverages'\n",
    "        elif any(keyword in item_l for keyword in coffee_teas):\n",
    "            ggc_sales.at[i, 'category'] = 'Coffee and Tea'\n",
    "        else:\n",
    "            ggc_sales.at[i, 'category'] = 'Unknown'\n",
    "\n",
    "print(ggc_sales.price_point_name.unique())\n",
    "print(ggc_sales.category.unique())"
   ]
  },
  {
   "cell_type": "code",
   "execution_count": null,
   "id": "fe5b434f-35a8-426a-9efb-affc18925815",
   "metadata": {},
   "outputs": [],
   "source": [
    "# Assign temperature values to drinks with only one temperature option\n",
    "hot_drinks = ['hot chocolate']\n",
    "iced_drinks = ['caramel cold brew', 'green tea peach lemonade', 'cold brew', 'shaken espresso', 'mad muscle iced latte',\\\n",
    "               \"sugar we're going down\", 'black elixir', 'elixir', 'flavored lemonade', 'kids milk', 'pink elixir']\n",
    "blended = ['mad muscle', 'frapp', 'chocoholic frapp', 'tsukuyomi', 'coffee frapp', 'cream frapp',\\\n",
    "           'frozen elixir', 'frozen lemonade', 'ice wizard', 'mana potion', 'rasengan']\n",
    "\n",
    "for i, item in enumerate(ggc_sales.item):\n",
    "    item_l = item.lower()\n",
    "    if any(keyword in item_l for keyword in hot_drinks):\n",
    "        ggc_sales.at[i, 'temperature'] = 'Hot'\n",
    "    elif any(keyword in item_l for keyword in iced_drinks):\n",
    "        ggc_sales.at[i, 'temperature'] = 'Iced'\n",
    "    elif any(keyword in item_l for keyword in blended):\n",
    "        ggc_sales.at[i, 'temperature'] = 'Blended'\n",
    "\n",
    "print(ggc_sales[ggc_sales['price_point_name'] == 'Regular'].head())"
   ]
  },
  {
   "cell_type": "code",
   "execution_count": null,
   "id": "a6761732-46af-4670-b482-fea42acbba4d",
   "metadata": {},
   "outputs": [],
   "source": [
    "# Check for drinks with missing size values\n",
    "print(ggc_sales['item'][(~ggc_sales['category'].isin(['Food','Events', 'Custom'])) & (ggc_sales['size'].isna())].unique())"
   ]
  },
  {
   "cell_type": "code",
   "execution_count": null,
   "id": "37b30e84-b4e2-49c0-9ec7-ac3eeb9ecc48",
   "metadata": {},
   "outputs": [],
   "source": [
    "# Replace missing size values for Mad Muscle drinks, which are always large\n",
    "for i, item in enumerate(ggc_sales.item) :\n",
    "    if item in ['Mad Muscle', 'Mad Muscle Iced Latte']:\n",
    "        ggc_sales.at[i, 'size'] = 'Large'\n",
    "# Replace missing size values for Matcha Monk based on drink price\n",
    "size_price = {\n",
    "    4.50: 'Small',\n",
    "    5.00: 'Small',\n",
    "    5.50: 'Large',\n",
    "    6.00: 'Large'\n",
    "}\n",
    "\n",
    "for i, row in ggc_sales.iterrows():\n",
    "    if row['item'] == 'Matcha Monk' and pd.isna(row['size']):\n",
    "        ggc_sales.at[i, 'size'] = size_price.get(row['gross_sales'], 'Unknown')\n",
    "\n",
    "print(ggc_sales['size'][ggc_sales['item'].isin(['Mad Muscle', 'Mad Muscle Iced Latte', 'Matcha Monk'])].unique())"
   ]
  },
  {
   "cell_type": "code",
   "execution_count": null,
   "id": "6a1e76e5-e27b-4a2e-a665-4d8a84c8f35e",
   "metadata": {},
   "outputs": [],
   "source": [
    "# Adjust 'Whole Milk' to '2% Milk'\n",
    "ggc_sales['milk'] = ggc_sales['milk'].replace({'Whole Milk': '2% Milk', 'Lemonade': None})\n",
    "\n",
    "# Assign milk values for drinks with known milks\n",
    "has_milk = ['latte', 'dirty filthy little chai', 'matcha latte', 'macchiato', 'matcha monk', 'shaken espresso', 'hot chocolate', 'kids milk',\\\n",
    "            'pumpkin spice latte', 'pumpkin chai', 'cappuccino', 'irish goodbye', \"sugar we're going down\", 'dalgona style', 'flat white']\n",
    "has_hwc = ['mad muscle', 'frapp', 'chocoholic frapp', 'tsukuyomi', 'coffee frapp', 'cream frapp', 'rasengan', 'tsukuyomi']\n",
    "\n",
    "for i, item in enumerate(ggc_sales['item']):\n",
    "    item_l = item.lower()\n",
    "    if pd.isna(ggc_sales.at[i, 'milk']):\n",
    "        if any(drink in item_l for drink in has_milk):\n",
    "            ggc_sales.at[i, 'milk'] = '2% Milk'\n",
    "        elif any(drink in item_l for drink in has_hwc):\n",
    "            ggc_sales.at[i, 'milk'] = 'Heavy Whipping Cream'\n",
    "# Remove outlier\n",
    "ggc_sales.loc[2951, 'milk'] = None\n",
    "\n",
    "print(ggc_sales.milk.unique())"
   ]
  },
  {
   "cell_type": "markdown",
   "id": "94109aa5-b631-4fa6-82f7-a6091839f9eb",
   "metadata": {},
   "source": [
    "ANALYSIS"
   ]
  },
  {
   "cell_type": "markdown",
   "id": "c4a76f5b-9d66-41e5-8a0d-bb0ec200d430",
   "metadata": {},
   "source": [
    "Saving"
   ]
  },
  {
   "cell_type": "code",
   "execution_count": null,
   "id": "19515f3b-6cef-4441-ba1c-01108016ccfd",
   "metadata": {},
   "outputs": [],
   "source": [
    "# Filter for tax = 0\n",
    "ggc_sales[ggc_sales['tax'] == 0]"
   ]
  },
  {
   "cell_type": "code",
   "execution_count": null,
   "id": "a912a508-7331-41b7-93a3-9739587a14ed",
   "metadata": {},
   "outputs": [],
   "source": [
    "# Determine sales tax percentage\n",
    "has_tax = ggc_sales['tax'][ggc_sales['tax'] != 0]\n",
    "reg_tax = has_tax[ggc_sales['price_point_name'] == 'Regular']\n",
    "reg_net = ggc_sales['net_sales'][ggc_sales['price_point_name'] == 'Regular']\n",
    "tax_pct = (reg_tax / reg_net).mean()\n",
    "tax_pct"
   ]
  },
  {
   "cell_type": "code",
   "execution_count": null,
   "id": "498840d2-5528-47ec-97a1-67d965104b03",
   "metadata": {},
   "outputs": [],
   "source": [
    "# Analyze losses from inaccurate tax amounts\n",
    "no_tax = ggc_sales['net_sales'][ggc_sales['tax'] == 0]\n",
    "missing_tax = no_tax * tax_pct\n",
    "tax_loss = no_tax + missing_tax\n",
    "tax_loss"
   ]
  },
  {
   "cell_type": "code",
   "execution_count": null,
   "id": "0d5b5abb-0b0c-46ae-b35e-74631d87cf20",
   "metadata": {},
   "outputs": [],
   "source": [
    "ggc_sales['est_tax'] = round(ggc_sales['net_sales'] * tax_pct, 2)\n",
    "ggc_sales['est_final'] = round(ggc_sales['net_sales'] + ggc_sales['est_tax'], 2)\n",
    "ggc_sales['est_final']"
   ]
  },
  {
   "cell_type": "code",
   "execution_count": null,
   "id": "104dfcd2-260d-46b6-964b-ccd9fc5a285d",
   "metadata": {},
   "outputs": [],
   "source": [
    "tax_final = ggc_sales['final_sale'][ggc_sales['tax'] == 0]\n",
    "\n",
    "tax_compare = pd.DataFrame(columns= ['original_sale', 'est_tax_sale'])\n",
    "tax_compare['original_sale'] = tax_final\n",
    "tax_compare['est_tax_sale'] = tax_loss\n",
    "tax_compare"
   ]
  },
  {
   "cell_type": "code",
   "execution_count": null,
   "id": "797a56b6-58b2-4c21-841b-7cc6eff05fa7",
   "metadata": {},
   "outputs": [],
   "source": [
    "# Calculate the sums of the two columns\n",
    "sum_original_sale = tax_compare['original_sale'].sum()\n",
    "sum_est_tax_sale = tax_compare['est_tax_sale'].sum()\n",
    "\n",
    "# Create a DataFrame with these sums for easier plotting\n",
    "sum_data = pd.DataFrame({\n",
    "    'Sale Type': ['Original Revenue', 'Estimated Tax-Inclusive Revenue'],\n",
    "    'Total Amount': [sum_original_sale, sum_est_tax_sale]\n",
    "})\n",
    "\n",
    "# Plotting the sums as a bar graph\n",
    "plt.figure(figsize=(10, 6))\n",
    "bars = plt.bar(sum_data['Sale Type'], sum_data['Total Amount'], color=['blue', 'green'])\n",
    "\n",
    "# Adding labels and title\n",
    "plt.xlabel('Sale Type')\n",
    "plt.ylabel('Total Amount ($)')\n",
    "plt.title('Total Amount Comparison: Original Revenue vs. Estimated Tax-Inclusive Revenue')\n",
    "\n",
    "for bar in bars:\n",
    "    yval = bar.get_height()\n",
    "    plt.text(bar.get_x() + bar.get_width()/2, yval + 0.02 * yval, f'{yval:.2f}', ha='center', va='bottom')\n",
    "\n",
    "# Show the plot\n",
    "plt.show()"
   ]
  },
  {
   "cell_type": "markdown",
   "id": "bba7b6ee-c89f-4eb2-a49c-1bca13281e5c",
   "metadata": {},
   "source": [
    "Analysis of Drink Addons"
   ]
  },
  {
   "cell_type": "code",
   "execution_count": null,
   "id": "3fcb98dd-60f3-4845-b3d3-153b7ed724cf",
   "metadata": {},
   "outputs": [],
   "source": [
    "# Update flavors from notes\n",
    "ggc_sales.loc[(ggc_sales['notes'].str.contains('Pink|PE')) & (ggc_sales['flavors'].isna()), 'flavors'] = 'Peach, Strawberry'\n",
    "ggc_sales.loc[(ggc_sales['notes'] == 'Peach') & (ggc_sales['flavors'].isna()), 'flavors'] = 'Peach'\n",
    "ggc_sales.loc[(ggc_sales['notes'].str.contains('Straw|Strawberry', case=False, na=False)) & (ggc_sales['flavors'].isna()), 'flavors'] = 'Strawberry'\n",
    "ggc_sales.loc[(ggc_sales['notes'] == 'Carm') & (ggc_sales['flavors'].isna()), 'flavors'] = 'Caramel'\n",
    "ggc_sales.loc[(ggc_sales['notes'].str.contains(r'free caramel')) & (ggc_sales['flavors'].isna()), 'flavors'] = 'Sugar Free Caramel'\n",
    "ggc_sales.loc[(ggc_sales['notes'].str.contains('Blueberry')) & (ggc_sales['flavors'].isna()), 'flavors'] = 'Blueberry'\n",
    "\n",
    "# Additional updates\n",
    "ggc_sales.loc[(ggc_sales['notes'].str.contains('Shaken|SE', case=False, na=False)) & (ggc_sales['item'] == 'Latte'), 'item'] = 'Shaken Espresso'\n",
    "ggc_sales.loc[(ggc_sales['notes'].str.contains(r'soft top', case=False, na=False)) & (ggc_sales['addons'].isna()), 'addons'] = 'Cold Foam'\n",
    "ggc_sales.loc[(ggc_sales['notes'].str.contains('no cream', case=False, na=False)), 'milk'] = None\n",
    "ggc_sales.loc[(ggc_sales['item'] == 'caramel cold brew') & (ggc_sales['flavors'].isna()), 'flavors'] = 'Caramel'"
   ]
  },
  {
   "cell_type": "code",
   "execution_count": null,
   "id": "d3c61bae-8ed2-4c0e-ae5a-a116ccd48fc4",
   "metadata": {},
   "outputs": [],
   "source": [
    "# Create filtered DataFrame for drink analysis\n",
    "ggc_reg = ggc_sales[ggc_sales['price_point_name'] == 'Regular']\n",
    "ggc_drinks = ggc_reg[ggc_reg['category'].isin(['Beverages', 'Coffee and Tea'])]\n",
    "drinks_table = ggc_drinks[['item', 'qty', 'size', 'milk', 'flavors', 'addons', 'net_sales', 'final_sale', 'notes']]\n",
    "w_addons = drinks_table[~drinks_table['addons'].isna()]\n",
    "w_notes = drinks_table[drinks_table['notes'] != 'NA']\n",
    "w_notes"
   ]
  },
  {
   "cell_type": "code",
   "execution_count": null,
   "id": "64cc9bf8-5d5f-46d8-9803-96a0051832cd",
   "metadata": {},
   "outputs": [],
   "source": [
    "# Analyze addon costs"
   ]
  },
  {
   "cell_type": "markdown",
   "id": "1dfa0975-726c-4942-998e-729d87ede07c",
   "metadata": {},
   "source": [
    "Revenue Generating"
   ]
  },
  {
   "cell_type": "markdown",
   "id": "19fcf468-e9f2-493d-83a6-664ddd9840af",
   "metadata": {},
   "source": [
    "Overall Popularity"
   ]
  },
  {
   "cell_type": "code",
   "execution_count": null,
   "id": "84984eef-caba-4386-8865-1765f6e920de",
   "metadata": {},
   "outputs": [],
   "source": [
    "# Create function to plot the total sum of an aggregate value for each column value\n",
    "def agg_plot(dataframe, col, agg_value, title, xlabel, ylabel):\n",
    "    agg_group = dataframe.groupby(col)[agg_value].sum().sort_values(ascending=False)\n",
    "    agg_group.plot(kind='bar')\n",
    "    plt.title(title)\n",
    "    plt.xlabel(xlabel)\n",
    "    plt.ylabel(ylabel)\n",
    "\n",
    "# Use agg_plot to plot the total quantity purchased for each drink\n",
    "agg_plot(ggc_drinks, 'item', 'qty', 'Quantity Purchased by Drink', 'Drink Name', 'Qty Ordered')"
   ]
  },
  {
   "cell_type": "markdown",
   "id": "f9fb0dea-aa14-4833-b99a-575103dba8c9",
   "metadata": {},
   "source": [
    "Analysis by Drink Type"
   ]
  },
  {
   "cell_type": "code",
   "execution_count": null,
   "id": "b3c942e3-bb89-4ecd-9fdb-dd0ef10b46b1",
   "metadata": {},
   "outputs": [],
   "source": [
    "# Ensure all drink names are lowercase for consistent comparison\n",
    "ggc_sales['item'] = ggc_sales['item'].str.lower()\n",
    "\n",
    "# Categorize drinks into new DataFrames\n",
    "teas_df = ggc_sales[(ggc_sales['item'].str.contains('tea|chai|matcha'))]\n",
    "\n",
    "frapps_df = ggc_sales[(ggc_sales['temperature'] == 'Blended') & (~ggc_sales['milk'].isna())]\n",
    "\n",
    "elixirs_df = ggc_sales[ggc_sales['item'].str.contains('elixir|mana potion|ice wizard')]\n",
    "\n",
    "# Print the unique items of each DataFrame for verification\n",
    "print(\"Teas:\", teas_df.item.unique())\n",
    "print(\"Frapps:\", frapps_df.item.unique())\n",
    "print(\"Elixirs:\", elixirs_df.item.unique())"
   ]
  },
  {
   "cell_type": "code",
   "execution_count": null,
   "id": "478b2da6-0af7-43e8-af04-9b26e1be79e0",
   "metadata": {},
   "outputs": [],
   "source": [
    "# Create a DataFrame to filter out event, custom, and food items\n",
    "misc_df = ggc_sales[ggc_sales['category'].isin(['Custom', 'Events', 'Food'])]\n",
    "# Create a combination of the previous categories\n",
    "comb_df = pd.concat([teas_df, frapps_df, elixirs_df, misc_df])\n",
    "\n",
    "# Anti join against the combo DataFrame to list items not yet categorized\n",
    "merge_table = ggc_sales.merge(comb_df, on='item', how='left', indicator=True)\n",
    "merge_item_list = merge_table.loc[merge_table['_merge'] == 'left_only', 'item']\n",
    "anti_merge_df = ggc_sales[ggc_sales['item'].isin(merge_item_list)]\n",
    "anti_merge_df.item.unique()\n",
    "\n",
    "# Create the Coffees DataFrame by filtering out non-coffee items\n",
    "coffees_df = anti_merge_df[~anti_merge_df['item'].str.contains('lemonade|kids milk|hot chocolate')]\n",
    "\n",
    "# Print the unique items in the Coffees DataFrame to verify\n",
    "coffees_df.item.unique()"
   ]
  },
  {
   "cell_type": "code",
   "execution_count": null,
   "id": "30e0f46e-36dc-47ac-8060-2884862c2b16",
   "metadata": {},
   "outputs": [],
   "source": [
    "# Bar Chart analyzing the Coffees DataFrame by drink name\n",
    "agg_plot(coffees_df, 'item', 'qty', 'Coffee Drink Overall Popularity', 'Drink Name', 'Qty Ordered')"
   ]
  },
  {
   "cell_type": "code",
   "execution_count": null,
   "id": "baa6ddc5-be11-45be-a8cd-a1bb10424b9f",
   "metadata": {},
   "outputs": [],
   "source": [
    "# Coffee Trend\n",
    "import matplotlib.dates as mdates\n",
    "\n",
    "# Create Function for plotting trends\n",
    "\n",
    "def trend_plot(dataframe, col1, col2, agg_value, limit, title, xlabel, ylabel):\n",
    "    # Group by selected columns, then sum the value chosen to aggregate\n",
    "    trend_agg = dataframe.groupby([col1, col2])[agg_value].sum().reset_index()\n",
    "    # Pivot the DataFrame to have the first column as rows and the second column as columns\n",
    "    trend_pivot = trend_agg.pivot(index=col1, columns=col2, values=agg_value).fillna(0)\n",
    "    # Calculate the total of the agg value\n",
    "    total_qty = trend_pivot.sum(axis=0)\n",
    "    # Limit the plot to only the top x, set by 'limit'\n",
    "    plot_limit = total_qty.nlargest(limit).index\n",
    "    filtered_pivot = trend_pivot[plot_limit]\n",
    "    # Plot the data as a line chart\n",
    "    for column in filtered_pivot.columns:\n",
    "        plt.plot(filtered_pivot.index, filtered_pivot[column], label=column)\n",
    "    plt.xlabel(xlabel)\n",
    "    plt.ylabel(ylabel)\n",
    "    plt.title(title)\n",
    "    plt.legend(title=col2)\n",
    "    plt.xticks(rotation=45)\n",
    "    plt.grid(True)\n",
    "    plt.tight_layout()\n",
    "    \n",
    "    plt.gca().xaxis.set_major_locator(mdates.MonthLocator())\n",
    "    plt.gca().xaxis.set_major_formatter(mdates.DateFormatter('%b %Y'))\n",
    "\n",
    "# Use the trend_plot function to plot the top 5 Coffee drinks using the coffees_df dataframe\n",
    "\n",
    "trend_plot(coffees_df, 'date', 'item', 'qty', 5, 'Coffee Drinks Popularity Trend (Top 5)', 'Date', 'Quantity Ordered')"
   ]
  },
  {
   "cell_type": "code",
   "execution_count": null,
   "id": "4cff52d3-0dd0-4519-8969-02ab72a242dd",
   "metadata": {},
   "outputs": [],
   "source": [
    "# Plot the overall popularity of tea drinks\n",
    "agg_plot(teas_df, 'item', 'qty', 'Tea Drink Overall Popularity', 'Drink Name', 'Qty Ordered')"
   ]
  },
  {
   "cell_type": "code",
   "execution_count": null,
   "id": "85f8db74-25e4-4313-9d4e-9f11e79244e0",
   "metadata": {},
   "outputs": [],
   "source": [
    "# Tea Trend\n",
    "trend_plot(teas_df, 'date', 'item', 'qty', 4, 'Tea Drinks Popularity Trend (Top 4)', 'Date', 'Quantity Ordered')"
   ]
  },
  {
   "cell_type": "code",
   "execution_count": null,
   "id": "a9712af4-7c49-48ba-a339-156ba5d0a011",
   "metadata": {},
   "outputs": [],
   "source": [
    "# Frapps\n",
    "agg_plot(frapps_df, 'item', 'qty', 'Frapp Drink Overall Popularity', 'Drink Name', 'Qty Ordered')"
   ]
  },
  {
   "cell_type": "code",
   "execution_count": null,
   "id": "b1c803b1-c39d-469e-bce8-8a7fb28b7711",
   "metadata": {},
   "outputs": [],
   "source": [
    "#Frapp Trend\n",
    "trend_plot(frapps_df, 'date', 'item', 'qty', 3, 'Frapp Drinks Popularity Trend (Top 3)', 'Date', 'Qty Ordered')"
   ]
  },
  {
   "cell_type": "code",
   "execution_count": null,
   "id": "764c6526-9f4f-47a3-bd1b-11341915ef24",
   "metadata": {},
   "outputs": [],
   "source": [
    "# Elixirs\n",
    "agg_plot(elixirs_df, 'item', 'qty', 'Elixir Drink Overall Popularity', 'Drink Name', 'Qty Ordered')"
   ]
  },
  {
   "cell_type": "code",
   "execution_count": null,
   "id": "9eedd102-1a65-4886-ae8d-1efbc7f973c2",
   "metadata": {},
   "outputs": [],
   "source": [
    "#Elixir Trend\n",
    "trend_plot(elixirs_df, 'date', 'item', 'qty', 4, 'Elixir Drinks Popularity Trend (Top 4)', 'Date', 'Qty Ordered')"
   ]
  },
  {
   "cell_type": "code",
   "execution_count": null,
   "id": "ed0f9516-33d2-456c-8cb7-9dac58a715b6",
   "metadata": {},
   "outputs": [],
   "source": [
    "# Top 5 Trend\n",
    "trend_plot(ggc_drinks, 'date', 'item', 'qty', 5, 'Top 5 Drinks Popularity Trend', 'Date', 'Qty Ordered')"
   ]
  },
  {
   "cell_type": "code",
   "execution_count": null,
   "id": "44a1da1b-3f5e-40b2-b15b-8b9049bf3081",
   "metadata": {},
   "outputs": [],
   "source": [
    "# Drinks ordered as Large vs Small\n",
    "# Filter for relevant values\n",
    "agg_size = ggc_drinks.groupby(['item', 'size'])['qty'].sum().reset_index()\n",
    "agg_size['total_qty'] = agg_size.groupby('item')['qty'].transform('sum')\n",
    "agg_size = agg_size.sort_values(by='total_qty', ascending=False)\n",
    "pivot_size = agg_size.pivot_table(index='item', columns='size', values='qty').fillna(0)\n",
    "pivot_size = pivot_size.loc[agg_size['item'].unique()]\n",
    "\n",
    "\n",
    "\n",
    "# Plot axes in stacked bar\n",
    "size_anlz = pivot_size.plot(kind='bar', stacked=True)\n",
    "plt.title('Drink Popularity by Size (Large vs Small)')\n",
    "plt.xlabel('Drink Name')\n",
    "plt.ylabel('Qty of Drinks Ordered')\n",
    "\n",
    "plt.show()"
   ]
  },
  {
   "cell_type": "markdown",
   "id": "3bffe15d-ac8d-4687-92b7-0cf40626cd94",
   "metadata": {},
   "source": [
    "Flavor Analysis"
   ]
  },
  {
   "cell_type": "code",
   "execution_count": null,
   "id": "2916b736-765c-46fb-886a-2c717c2e3e8c",
   "metadata": {},
   "outputs": [],
   "source": [
    "# Analyze popularity of flavors based on sum of Qty\n"
   ]
  },
  {
   "cell_type": "code",
   "execution_count": null,
   "id": "125220ab-74ea-46a3-9dfa-2df271224bb5",
   "metadata": {},
   "outputs": [],
   "source": [
    "# Split the 'flavors' column into individual flavors\n",
    "w_flavor = ggc_drinks[~ggc_drinks['flavors'].isna()]\n",
    "flavors_expanded = w_flavor['flavors'].str.get_dummies(sep=', ')\n",
    "\n",
    "# Add the quantity to each flavor\n",
    "flavors_expanded = flavors_expanded.mul(ggc_drinks['qty'], axis=0)\n",
    "\n",
    "# Plot the Qty Purchased for each flavor\n",
    "pop_flavor = flavors_expanded.sum(axis=0).sort_values(ascending=False)\n",
    "pop_flavor.plot(kind='bar')"
   ]
  },
  {
   "cell_type": "code",
   "execution_count": null,
   "id": "d79cea78-dee1-4851-ad4d-b627512fc2a9",
   "metadata": {},
   "outputs": [],
   "source": [
    "# Identify the top 5 flavors by total quantity ordered\n",
    "top_5_flavors = pop_flavor.head(5).index\n",
    "\n",
    "# Create a DataFrame to store the time series data\n",
    "time_series_df = w_flavor[['date']].copy()\n",
    "\n",
    "# Add the top 5 flavors quantities to the time series DataFrame\n",
    "for flavor in top_5_flavors:\n",
    "    time_series_df[flavor] = flavors_expanded[flavor]\n",
    "\n",
    "# Group by date and sum the quantities\n",
    "time_series_df = time_series_df.groupby('date').sum()\n",
    "\n",
    "# Plot the trends for the top 5 flavors\n",
    "for flavor in top_5_flavors:\n",
    "    plt.plot(time_series_df.index, time_series_df[flavor], label=flavor)\n",
    "\n",
    "plt.xlabel('Date')\n",
    "plt.ylabel('Quantity Ordered')\n",
    "plt.title('Trends for Top 5 Flavors Over Time')\n",
    "plt.legend(title='Flavor')\n",
    "plt.xticks(rotation=45)\n",
    "plt.grid(True)\n",
    "plt.tight_layout()\n",
    "\n",
    "# Format the x-axis to show only the month\n",
    "plt.gca().xaxis.set_major_locator(mdates.MonthLocator())\n",
    "plt.gca().xaxis.set_major_formatter(mdates.DateFormatter('%b %Y'))\n",
    "\n",
    "plt.show()"
   ]
  },
  {
   "cell_type": "markdown",
   "id": "8d507ac9-dbcf-4e5b-a235-a3e09ce42792",
   "metadata": {},
   "source": [
    "Market Basket Analysis"
   ]
  },
  {
   "cell_type": "code",
   "execution_count": null,
   "id": "ad157293-519e-4eb3-8d86-8b4366047939",
   "metadata": {},
   "outputs": [],
   "source": [
    "# Market basket analysis\n",
    "# Filter relevant fields\n",
    "market_b_df = ggc_reg[['transaction_id', 'customer_name', 'date', 'item', 'size', 'temperature', 'milk', 'flavors', 'addons', 'qty', 'final_sale']]\n",
    "\n",
    "market_join = market_b_df.merge(market_b_df, left_on='transaction_id', right_on='transaction_id')\n",
    "market_join"
   ]
  },
  {
   "cell_type": "code",
   "execution_count": 76,
   "id": "2fff44ce-8726-44d9-a271-302b249674fe",
   "metadata": {},
   "outputs": [],
   "source": [
    "ggc_sales.to_csv('ggc sales cleaned.csv')"
   ]
  },
  {
   "cell_type": "code",
   "execution_count": null,
   "id": "f9b6eec0-d5ad-49f8-8b4e-72e817549285",
   "metadata": {},
   "outputs": [],
   "source": []
  }
 ],
 "metadata": {
  "kernelspec": {
   "display_name": "Python 3 (ipykernel)",
   "language": "python",
   "name": "python3"
  },
  "language_info": {
   "codemirror_mode": {
    "name": "ipython",
    "version": 3
   },
   "file_extension": ".py",
   "mimetype": "text/x-python",
   "name": "python",
   "nbconvert_exporter": "python",
   "pygments_lexer": "ipython3",
   "version": "3.11.7"
  }
 },
 "nbformat": 4,
 "nbformat_minor": 5
}
